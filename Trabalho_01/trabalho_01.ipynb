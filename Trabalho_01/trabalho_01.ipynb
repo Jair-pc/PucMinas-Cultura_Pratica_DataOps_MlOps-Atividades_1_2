{
  "cells": [
    {
      "cell_type": "markdown",
      "source": [
        "# Atividade 01\n",
        "### *ETL utilizando o Pyspark*"
      ],
      "metadata": {
        "id": "UU_AiDynI1Ft"
      }
    },
    {
      "cell_type": "markdown",
      "source": [
        "#### Criação do ambiente"
      ],
      "metadata": {
        "id": "nZnE4ZqWJDUW"
      }
    },
    {
      "cell_type": "code",
      "source": [
        "!pip install pyspark==3.1.3"
      ],
      "metadata": {
        "id": "-Pt-ZbOvDAQ7"
      },
      "execution_count": null,
      "outputs": []
    },
    {
      "cell_type": "code",
      "source": [
        "!apt-get update"
      ],
      "metadata": {
        "id": "LMQHPwhxDGWf"
      },
      "execution_count": null,
      "outputs": []
    },
    {
      "cell_type": "code",
      "source": [
        "!apt-get install openjdk-8-jdk-headless -qq > /dev/null"
      ],
      "metadata": {
        "id": "cjlIztlbDDX4"
      },
      "execution_count": null,
      "outputs": []
    },
    {
      "cell_type": "code",
      "source": [
        "!wget -q https://downloads.apache.org/spark/spark-3.1.3/spark-3.1.3-bin-hadoop2.7.tgz\n",
        "!tar -xvf spark-3.1.3-bin-hadoop2.7.tgz"
      ],
      "metadata": {
        "id": "qQKMHL_sDQfM"
      },
      "execution_count": null,
      "outputs": []
    },
    {
      "cell_type": "code",
      "source": [
        "!pip install -q findspark"
      ],
      "metadata": {
        "id": "T4uuq256Daos"
      },
      "execution_count": null,
      "outputs": []
    },
    {
      "cell_type": "code",
      "source": [
        "!pip install pydeequ==1.0.1"
      ],
      "metadata": {
        "id": "q_kV4cwIFwap"
      },
      "execution_count": null,
      "outputs": []
    },
    {
      "cell_type": "code",
      "source": [
        "import os "
      ],
      "metadata": {
        "id": "0TadQC7-GP_f"
      },
      "execution_count": 7,
      "outputs": []
    },
    {
      "cell_type": "code",
      "source": [
        "os.system(\"wget -q https://downloads.apache.org/spark/spark-3.1.3/spark-3.1.3-bin-hadoop2.7.tgz\")\n",
        "os.system(\"tar xf /spark-3.1.3-bin-hadoop2.7.tgz\")"
      ],
      "metadata": {
        "id": "_8TC-CriDUDD"
      },
      "execution_count": null,
      "outputs": []
    },
    {
      "cell_type": "code",
      "source": [
        "os.environ[\"JAVA_HOME\"] = \"/usr/lib/jvm/java-8-openjdk-amd64\"\n",
        "os.environ[\"SPARK_HOME\"] = \"/content/spark-3.1.3-bin-hadoop2.7\"\n",
        "os.environ[\"SPARK_VERSION\"] = \"3.1.3\""
      ],
      "metadata": {
        "id": "oRJrMGM9DXnP"
      },
      "execution_count": 9,
      "outputs": []
    },
    {
      "cell_type": "code",
      "source": [
        "import findspark\n",
        "findspark.init() "
      ],
      "metadata": {
        "id": "UwLdNJaSDdmx"
      },
      "execution_count": 10,
      "outputs": []
    },
    {
      "cell_type": "code",
      "source": [
        "from pyspark import SparkContext as sc\n",
        "from pyspark.sql import SparkSession\n",
        "from pyspark.sql.functions import col\n",
        "import pydeequ\n",
        "from pydeequ.checks import *\n",
        "from pydeequ.verification import *\n",
        "spark = (SparkSession\n",
        ".builder\n",
        ".config(\"spark.jars.packages\", pydeequ.deequ_maven_coord)\n",
        ".config(\"spark.jars.excludes\", pydeequ.f2j_maven_coord)\n",
        ".appName(\"trabalho_01\")\n",
        ".master(\"local[*]\")\n",
        ".getOrCreate())\n",
        "spark"
      ],
      "metadata": {
        "id": "EQOl7ad9DmWr"
      },
      "execution_count": null,
      "outputs": []
    },
    {
      "cell_type": "code",
      "source": [
        "sparkContext=spark.sparkContext"
      ],
      "metadata": {
        "id": "pAlV--axEyKX"
      },
      "execution_count": 12,
      "outputs": []
    },
    {
      "cell_type": "markdown",
      "source": [
        "#### Leitura do arquivo"
      ],
      "metadata": {
        "id": "PO-9BUw-JWMt"
      }
    },
    {
      "cell_type": "code",
      "execution_count": 32,
      "metadata": {
        "id": "8qL6z6p4-fpR"
      },
      "outputs": [],
      "source": [
        "df_iris = spark.read.option(\"header\",True).option(\"inferSchema\",True).format('csv').load('iris.csv')"
      ]
    },
    {
      "cell_type": "code",
      "source": [
        "df_iris.printSchema()"
      ],
      "metadata": {
        "colab": {
          "base_uri": "https://localhost:8080/"
        },
        "id": "P2qEWVRmHsF6",
        "outputId": "1352e808-d9aa-4ecf-d80e-3c9a11ea47dd"
      },
      "execution_count": 33,
      "outputs": [
        {
          "output_type": "stream",
          "name": "stdout",
          "text": [
            "root\n",
            " |-- sepal_length: double (nullable = true)\n",
            " |-- sepal_width: double (nullable = true)\n",
            " |-- petal_length: double (nullable = true)\n",
            " |-- petal_width: double (nullable = true)\n",
            " |-- class: string (nullable = true)\n",
            " |-- classEncoder: integer (nullable = true)\n",
            "\n"
          ]
        }
      ]
    },
    {
      "cell_type": "code",
      "source": [
        "df_iris.show(5)"
      ],
      "metadata": {
        "colab": {
          "base_uri": "https://localhost:8080/"
        },
        "id": "xEoM9rzZHjkm",
        "outputId": "0b3c8f9e-ed1f-4b55-c361-80fdc39b78cc"
      },
      "execution_count": 34,
      "outputs": [
        {
          "output_type": "stream",
          "name": "stdout",
          "text": [
            "+------------+-----------+------------+-----------+-----------+------------+\n",
            "|sepal_length|sepal_width|petal_length|petal_width|      class|classEncoder|\n",
            "+------------+-----------+------------+-----------+-----------+------------+\n",
            "|         5.1|        3.5|         1.4|        0.2|Iris-setosa|           0|\n",
            "|         4.9|        3.0|         1.4|        0.2|Iris-setosa|           0|\n",
            "|         4.7|        3.2|         1.3|        0.2|Iris-setosa|           0|\n",
            "|         4.6|        3.1|         1.5|        0.2|Iris-setosa|           0|\n",
            "|         5.0|        3.6|         1.4|        0.2|Iris-setosa|           0|\n",
            "+------------+-----------+------------+-----------+-----------+------------+\n",
            "only showing top 5 rows\n",
            "\n"
          ]
        }
      ]
    },
    {
      "cell_type": "markdown",
      "source": [
        "#### Criar uma task pre-processamento para validar se os dados se encontram no formato correto utilizando Pyspark:\n",
        "\n",
        "- sepal_length range( 4.3,7.9)\n",
        "- sepal_width range(2.0,4.4)\n",
        "- petal_length range(1.0,6.9)\n",
        "- petal_width range(0.1,2.5)\n",
        "- classEncoder range(0,2)\n",
        "- class ['Iris-setosa', 'Iris-versicolor', 'Iris-virginica']"
      ],
      "metadata": {
        "id": "SX3UYt3NwKmU"
      }
    },
    {
      "cell_type": "markdown",
      "source": [
        "##### Utilizar a lib pydeequ para gerar o data quality report."
      ],
      "metadata": {
        "id": "Tms1ZWCgVusI"
      }
    },
    {
      "cell_type": "code",
      "source": [
        "check_df_iris = Check(spark, CheckLevel.Warning, \"Review Check\")"
      ],
      "metadata": {
        "id": "lDYiTVXOzDkV"
      },
      "execution_count": 35,
      "outputs": []
    },
    {
      "cell_type": "code",
      "source": [
        "check_df_iris_result = VerificationSuite(spark) \\\n",
        "    .onData(df_iris) \\\n",
        "    .addCheck(\n",
        "        check_df_iris \\\n",
        "        .hasMin(\"sepal_length\", lambda x: x >= 4.3) \\\n",
        "        .hasMax(\"sepal_length\", lambda x: x <= 7.9) \\\n",
        "        .hasMin(\"sepal_width\", lambda x: x >= 2) \\\n",
        "        .hasMax(\"sepal_width\", lambda x: x <= 4.4) \\\n",
        "        .hasMin(\"petal_length\", lambda x: x >= 1 ) \\\n",
        "        .hasMax(\"petal_length\", lambda x: x <= 6.9) \\\n",
        "        .hasMin(\"petal_width\", lambda x: x >= 0.1) \\\n",
        "        .hasMax(\"petal_width\", lambda x: x <= 2.5) \\\n",
        "        .hasMin(\"classEncoder\", lambda x: x >= 0) \\\n",
        "        .hasMax(\"classEncoder\", lambda x: x <= 2) \\\n",
        "        .isContainedIn(\"class\", [\"Iris-setosa\", \"Iris-versicolor\", \"Iris-virginica\"]))\\\n",
        "    .run()"
      ],
      "metadata": {
        "id": "FitjMZ1jQ80d"
      },
      "execution_count": 36,
      "outputs": []
    },
    {
      "cell_type": "markdown",
      "source": [
        "- Gerar o report após a leitura do arquivo."
      ],
      "metadata": {
        "id": "MnGjKV8mWQnf"
      }
    },
    {
      "cell_type": "code",
      "source": [
        "check_df_iris_result_df = VerificationResult.checkResultsAsDataFrame(spark, check_df_iris_result)\n",
        "check_df_iris_result_df.show(truncate=False)"
      ],
      "metadata": {
        "colab": {
          "base_uri": "https://localhost:8080/"
        },
        "id": "9LR_EZ8zV-eh",
        "outputId": "cc22499a-ee85-466a-c2da-d2c8d0261574"
      },
      "execution_count": 37,
      "outputs": [
        {
          "output_type": "stream",
          "name": "stdout",
          "text": [
            "+------------+-----------+------------+-------------------------------------------------------------------------------------------------------------------------------------------------------------------------------------+-----------------+-----------------------------------------------------+\n",
            "|check       |check_level|check_status|constraint                                                                                                                                                                           |constraint_status|constraint_message                                   |\n",
            "+------------+-----------+------------+-------------------------------------------------------------------------------------------------------------------------------------------------------------------------------------+-----------------+-----------------------------------------------------+\n",
            "|Review Check|Warning    |Warning     |MinimumConstraint(Minimum(sepal_length,None))                                                                                                                                        |Success          |                                                     |\n",
            "|Review Check|Warning    |Warning     |MaximumConstraint(Maximum(sepal_length,None))                                                                                                                                        |Failure          |Value: 15.0 does not meet the constraint requirement!|\n",
            "|Review Check|Warning    |Warning     |MinimumConstraint(Minimum(sepal_width,None))                                                                                                                                         |Success          |                                                     |\n",
            "|Review Check|Warning    |Warning     |MaximumConstraint(Maximum(sepal_width,None))                                                                                                                                         |Failure          |Value: 15.0 does not meet the constraint requirement!|\n",
            "|Review Check|Warning    |Warning     |MinimumConstraint(Minimum(petal_length,None))                                                                                                                                        |Success          |                                                     |\n",
            "|Review Check|Warning    |Warning     |MaximumConstraint(Maximum(petal_length,None))                                                                                                                                        |Failure          |Value: 39.0 does not meet the constraint requirement!|\n",
            "|Review Check|Warning    |Warning     |MinimumConstraint(Minimum(petal_width,None))                                                                                                                                         |Success          |                                                     |\n",
            "|Review Check|Warning    |Warning     |MaximumConstraint(Maximum(petal_width,None))                                                                                                                                         |Failure          |Value: 20.0 does not meet the constraint requirement!|\n",
            "|Review Check|Warning    |Warning     |MinimumConstraint(Minimum(classEncoder,None))                                                                                                                                        |Success          |                                                     |\n",
            "|Review Check|Warning    |Warning     |MaximumConstraint(Maximum(classEncoder,None))                                                                                                                                        |Success          |                                                     |\n",
            "|Review Check|Warning    |Warning     |ComplianceConstraint(Compliance(class contained in Iris-setosa,Iris-versicolor,Iris-virginica,`class` IS NULL OR `class` IN ('Iris-setosa','Iris-versicolor','Iris-virginica'),None))|Success          |                                                     |\n",
            "+------------+-----------+------------+-------------------------------------------------------------------------------------------------------------------------------------------------------------------------------------+-----------------+-----------------------------------------------------+\n",
            "\n"
          ]
        }
      ]
    },
    {
      "cell_type": "markdown",
      "source": [
        "#### Criar dataset tratado no formato parquet."
      ],
      "metadata": {
        "id": "48KRSqsR48ke"
      }
    },
    {
      "cell_type": "code",
      "source": [
        "df_iris.createOrReplaceTempView('iris')"
      ],
      "metadata": {
        "id": "9wOMMM3xwVYw"
      },
      "execution_count": 38,
      "outputs": []
    },
    {
      "cell_type": "code",
      "source": [
        "df_iris_tratado = spark.sql('''select * from iris\n",
        "where sepal_length between 4.3 and 7.9 \n",
        "and sepal_width between 2 and 4.4\n",
        "and petal_length between 1 and 6.9\n",
        "and petal_width between 0.1 and 2.5\n",
        "and classEncoder between 0 and 2\n",
        "and class in ('Iris-setosa', 'Iris-versicolor', 'Iris-virginica')\n",
        "''')"
      ],
      "metadata": {
        "id": "Ezw7k_BmxI8K"
      },
      "execution_count": 39,
      "outputs": []
    },
    {
      "cell_type": "code",
      "source": [
        "df_iris_tratado.write.format('parquet').mode('overwrite').save('iris_tratado.parquet')"
      ],
      "metadata": {
        "id": "AhxOptzi5kK1"
      },
      "execution_count": 40,
      "outputs": []
    },
    {
      "cell_type": "markdown",
      "source": [
        "- Gerar o report após ter realizado o tratamento dos dados."
      ],
      "metadata": {
        "id": "4ZLVSnk7WwbY"
      }
    },
    {
      "cell_type": "code",
      "source": [
        "check_df_iris_tratado = Check(spark, CheckLevel.Warning, \"Review Check\")"
      ],
      "metadata": {
        "id": "x2RfX3fkX67k"
      },
      "execution_count": 41,
      "outputs": []
    },
    {
      "cell_type": "code",
      "source": [
        "check_df_iris_tratado_result = VerificationSuite(spark) \\\n",
        "    .onData(df_iris_tratado) \\\n",
        "    .addCheck(\n",
        "        check_df_iris_tratado \\\n",
        "        .hasMin(\"sepal_length\", lambda x: x >= 4.3) \\\n",
        "        .hasMax(\"sepal_length\", lambda x: x <= 7.9) \\\n",
        "        .hasMin(\"sepal_width\", lambda x: x >= 2) \\\n",
        "        .hasMax(\"sepal_width\", lambda x: x <= 4.4) \\\n",
        "        .hasMin(\"petal_length\", lambda x: x >= 1 ) \\\n",
        "        .hasMax(\"petal_length\", lambda x: x <= 6.9) \\\n",
        "        .hasMin(\"petal_width\", lambda x: x >= 0.1) \\\n",
        "        .hasMax(\"petal_width\", lambda x: x <= 2.5) \\\n",
        "        .hasMin(\"classEncoder\", lambda x: x >= 0) \\\n",
        "        .hasMax(\"classEncoder\", lambda x: x <= 2) \\\n",
        "        .isContainedIn(\"class\", [\"Iris-setosa\", \"Iris-versicolor\", \"Iris-virginica\"]))\\\n",
        "    .run()"
      ],
      "metadata": {
        "id": "BXRuRP3z2Z53"
      },
      "execution_count": 42,
      "outputs": []
    },
    {
      "cell_type": "code",
      "source": [
        "check_df_iris_tratado_result_df = VerificationResult.checkResultsAsDataFrame(spark, check_df_iris_tratado_result)\n",
        "check_df_iris_tratado_result_df.show(truncate=False)"
      ],
      "metadata": {
        "colab": {
          "base_uri": "https://localhost:8080/"
        },
        "id": "MZX5L5pVWz9-",
        "outputId": "2462a297-2c60-4fbd-a1f5-68e523c482d5"
      },
      "execution_count": 43,
      "outputs": [
        {
          "output_type": "stream",
          "name": "stdout",
          "text": [
            "+------------+-----------+------------+-------------------------------------------------------------------------------------------------------------------------------------------------------------------------------------+-----------------+------------------+\n",
            "|check       |check_level|check_status|constraint                                                                                                                                                                           |constraint_status|constraint_message|\n",
            "+------------+-----------+------------+-------------------------------------------------------------------------------------------------------------------------------------------------------------------------------------+-----------------+------------------+\n",
            "|Review Check|Warning    |Success     |MinimumConstraint(Minimum(sepal_length,None))                                                                                                                                        |Success          |                  |\n",
            "|Review Check|Warning    |Success     |MaximumConstraint(Maximum(sepal_length,None))                                                                                                                                        |Success          |                  |\n",
            "|Review Check|Warning    |Success     |MinimumConstraint(Minimum(sepal_width,None))                                                                                                                                         |Success          |                  |\n",
            "|Review Check|Warning    |Success     |MaximumConstraint(Maximum(sepal_width,None))                                                                                                                                         |Success          |                  |\n",
            "|Review Check|Warning    |Success     |MinimumConstraint(Minimum(petal_length,None))                                                                                                                                        |Success          |                  |\n",
            "|Review Check|Warning    |Success     |MaximumConstraint(Maximum(petal_length,None))                                                                                                                                        |Success          |                  |\n",
            "|Review Check|Warning    |Success     |MinimumConstraint(Minimum(petal_width,None))                                                                                                                                         |Success          |                  |\n",
            "|Review Check|Warning    |Success     |MaximumConstraint(Maximum(petal_width,None))                                                                                                                                         |Success          |                  |\n",
            "|Review Check|Warning    |Success     |MinimumConstraint(Minimum(classEncoder,None))                                                                                                                                        |Success          |                  |\n",
            "|Review Check|Warning    |Success     |MaximumConstraint(Maximum(classEncoder,None))                                                                                                                                        |Success          |                  |\n",
            "|Review Check|Warning    |Success     |ComplianceConstraint(Compliance(class contained in Iris-setosa,Iris-versicolor,Iris-virginica,`class` IS NULL OR `class` IN ('Iris-setosa','Iris-versicolor','Iris-virginica'),None))|Success          |                  |\n",
            "+------------+-----------+------------+-------------------------------------------------------------------------------------------------------------------------------------------------------------------------------------+-----------------+------------------+\n",
            "\n"
          ]
        }
      ]
    },
    {
      "cell_type": "markdown",
      "source": [
        "- Criar um arquivo com os registros removidos contendo a mensagem do erro."
      ],
      "metadata": {
        "id": "DWji2ItO65xS"
      }
    },
    {
      "cell_type": "code",
      "source": [
        "df_iris_removidos = spark.sql('''select * ,\n",
        "case when sepal_length < 4.3 then 'sepal_length menor que 4.3'\n",
        "      when sepal_length > 7.9 then 'sepal_length maior que 7.9'\n",
        "      when sepal_width < 2 then 'sepal_width menor que 2'\n",
        "      when sepal_width > 4.4 then 'sepal_width maior que 4.4'\n",
        "      when petal_length < 1 then 'petal_length menor que 1'\n",
        "      when petal_length > 6.9 then 'petal_length maior que 6.9'\n",
        "      when petal_width < 0.1 then 'petal_width menor que 0.1'\n",
        "      when petal_width > 2.5 then 'petal_width maior que 2.5'\n",
        "      when classEncoder < 0 then 'classEncoder menor que 0'\n",
        "      when classEncoder > 2 then 'classEncoder maior que 2'\n",
        "      when class not in ('Iris-setosa', 'Iris-versicolor', 'Iris-virginica') then 'class diferente de Iris-setosa, Iris-versicolor ou Iris-virginica' \n",
        "      else '' end as erro\n",
        "from iris\n",
        "where sepal_length not between 4.3 and 7.9 \n",
        "or sepal_width not between 2 and 4.4\n",
        "or petal_length not between 1 and 6.9\n",
        "or petal_width not between 0.1 and 2.5\n",
        "or classEncoder not between 0 and 2\n",
        "or class not in ('Iris-setosa', 'Iris-versicolor', 'Iris-virginica')\n",
        "''')"
      ],
      "metadata": {
        "id": "N65MPC5n74pW"
      },
      "execution_count": 44,
      "outputs": []
    },
    {
      "cell_type": "code",
      "source": [
        "df_iris_removidos.show(truncate=False)"
      ],
      "metadata": {
        "colab": {
          "base_uri": "https://localhost:8080/"
        },
        "id": "CgSsSQqq-0zD",
        "outputId": "b0239f56-910c-4086-ee40-74fcc0d0a459"
      },
      "execution_count": 45,
      "outputs": [
        {
          "output_type": "stream",
          "name": "stdout",
          "text": [
            "+------------+-----------+------------+-----------+-----------+------------+--------------------------+\n",
            "|sepal_length|sepal_width|petal_length|petal_width|class      |classEncoder|erro                      |\n",
            "+------------+-----------+------------+-----------+-----------+------------+--------------------------+\n",
            "|15.0        |3.9        |1.7         |0.4        |Iris-setosa|0           |sepal_length maior que 7.9|\n",
            "|5.7         |15.0       |1.5         |0.4        |Iris-setosa|0           |sepal_width maior que 4.4 |\n",
            "|4.6         |15.0       |1.0         |0.2        |Iris-setosa|0           |sepal_width maior que 4.4 |\n",
            "|5.0         |3.0        |1.6         |20.0       |Iris-setosa|0           |petal_width maior que 2.5 |\n",
            "|5.2         |3.4        |39.0        |0.2        |Iris-setosa|0           |petal_length maior que 6.9|\n",
            "+------------+-----------+------------+-----------+-----------+------------+--------------------------+\n",
            "\n"
          ]
        }
      ]
    },
    {
      "cell_type": "code",
      "source": [
        "df_iris_removidos.write.format('parquet').mode('overwrite').save('iris_removidos.parquet')"
      ],
      "metadata": {
        "id": "UyGQ6V8C-csp"
      },
      "execution_count": 46,
      "outputs": []
    }
  ],
  "metadata": {
    "kernelspec": {
      "display_name": "Python 3",
      "language": "python",
      "name": "python3"
    },
    "language_info": {
      "codemirror_mode": {
        "name": "ipython",
        "version": 3
      },
      "file_extension": ".py",
      "mimetype": "text/x-python",
      "name": "python",
      "nbconvert_exporter": "python",
      "pygments_lexer": "ipython3",
      "version": "3.8.8"
    },
    "colab": {
      "provenance": [],
      "collapsed_sections": [
        "nZnE4ZqWJDUW"
      ]
    }
  },
  "nbformat": 4,
  "nbformat_minor": 0
}